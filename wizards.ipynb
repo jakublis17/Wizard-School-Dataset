{
 "cells": [
  {
   "cell_type": "code",
   "execution_count": 27,
   "metadata": {},
   "outputs": [],
   "source": [
    "import pandas\n",
    "import numpy\n",
    "import matplotlib.pyplot as plt"
   ]
  },
  {
   "cell_type": "code",
   "execution_count": 6,
   "metadata": {},
   "outputs": [],
   "source": [
    "df = pandas.read_json(\"wizard_profiles.jsonl\", lines=True)"
   ]
  },
  {
   "cell_type": "code",
   "execution_count": 15,
   "metadata": {},
   "outputs": [],
   "source": [
    "#sprawdzanie czystosci danych"
   ]
  },
  {
   "cell_type": "code",
   "execution_count": 16,
   "metadata": {},
   "outputs": [
    {
     "data": {
      "text/html": [
       "<div>\n",
       "<style scoped>\n",
       "    .dataframe tbody tr th:only-of-type {\n",
       "        vertical-align: middle;\n",
       "    }\n",
       "\n",
       "    .dataframe tbody tr th {\n",
       "        vertical-align: top;\n",
       "    }\n",
       "\n",
       "    .dataframe thead th {\n",
       "        text-align: right;\n",
       "    }\n",
       "</style>\n",
       "<table border=\"1\" class=\"dataframe\">\n",
       "  <thead>\n",
       "    <tr style=\"text-align: right;\">\n",
       "      <th></th>\n",
       "      <th>Name</th>\n",
       "      <th>Gender</th>\n",
       "      <th>House</th>\n",
       "      <th>Year</th>\n",
       "      <th>Specialty</th>\n",
       "      <th>Wand Type</th>\n",
       "      <th>Spell</th>\n",
       "      <th>Favorite Subject</th>\n",
       "      <th>Story</th>\n",
       "    </tr>\n",
       "  </thead>\n",
       "  <tbody>\n",
       "    <tr>\n",
       "      <th>0</th>\n",
       "      <td>Joseph Beltran</td>\n",
       "      <td>Male</td>\n",
       "      <td>BraveHall</td>\n",
       "      <td>1</td>\n",
       "      <td>Magical Creatures</td>\n",
       "      <td>Alder and Hippogriff Feather</td>\n",
       "      <td>Reviving Spell</td>\n",
       "      <td>Apparition</td>\n",
       "      <td>Joseph Beltran was a young boy with a passion ...</td>\n",
       "    </tr>\n",
       "    <tr>\n",
       "      <th>1</th>\n",
       "      <td>Shirley Martinez</td>\n",
       "      <td>Female</td>\n",
       "      <td>LoyalTower</td>\n",
       "      <td>5</td>\n",
       "      <td>Magical Artifacts</td>\n",
       "      <td>Ebony and Veela Hair</td>\n",
       "      <td>Animation Spell</td>\n",
       "      <td>Charms</td>\n",
       "      <td>Shirley Martinez was a student at the prestigi...</td>\n",
       "    </tr>\n",
       "    <tr>\n",
       "      <th>2</th>\n",
       "      <td>James Hernandez</td>\n",
       "      <td>Male</td>\n",
       "      <td>BraveHall</td>\n",
       "      <td>5</td>\n",
       "      <td>Astronomy</td>\n",
       "      <td>Cherry and Kelpie Hair</td>\n",
       "      <td>Curse of the Bogies</td>\n",
       "      <td>Magical Artifacts</td>\n",
       "      <td>James Hernandez was a curious and determined y...</td>\n",
       "    </tr>\n",
       "    <tr>\n",
       "      <th>3</th>\n",
       "      <td>Jodi Gregory</td>\n",
       "      <td>Female</td>\n",
       "      <td>WiseDen</td>\n",
       "      <td>1</td>\n",
       "      <td>Apparition</td>\n",
       "      <td>Cedar and Sphinx Whisker</td>\n",
       "      <td>Disarming Charm</td>\n",
       "      <td>Charms</td>\n",
       "      <td>Jodi Gregory was a first-year student at WiseD...</td>\n",
       "    </tr>\n",
       "    <tr>\n",
       "      <th>4</th>\n",
       "      <td>David Erickson</td>\n",
       "      <td>Male</td>\n",
       "      <td>BraveHall</td>\n",
       "      <td>3</td>\n",
       "      <td>Potions</td>\n",
       "      <td>Pine and Wyvern Talon</td>\n",
       "      <td>Freezing Charm</td>\n",
       "      <td>Curse Breaking</td>\n",
       "      <td>David Erickson was a third-year student at Bra...</td>\n",
       "    </tr>\n",
       "    <tr>\n",
       "      <th>...</th>\n",
       "      <td>...</td>\n",
       "      <td>...</td>\n",
       "      <td>...</td>\n",
       "      <td>...</td>\n",
       "      <td>...</td>\n",
       "      <td>...</td>\n",
       "      <td>...</td>\n",
       "      <td>...</td>\n",
       "      <td>...</td>\n",
       "    </tr>\n",
       "    <tr>\n",
       "      <th>37510</th>\n",
       "      <td>Steven Carr</td>\n",
       "      <td>Male</td>\n",
       "      <td>LoyalTower</td>\n",
       "      <td>1</td>\n",
       "      <td>Potions</td>\n",
       "      <td>Holly and Phoenix Feather</td>\n",
       "      <td>Vanishing Spell</td>\n",
       "      <td>Arithmancy</td>\n",
       "      <td>Steven Carr was a young man with a thirst for ...</td>\n",
       "    </tr>\n",
       "    <tr>\n",
       "      <th>37511</th>\n",
       "      <td>Susan Banks</td>\n",
       "      <td>Female</td>\n",
       "      <td>CleverKeep</td>\n",
       "      <td>4</td>\n",
       "      <td>Herbology</td>\n",
       "      <td>Pine and Wyvern Talon</td>\n",
       "      <td>Freezing Charm</td>\n",
       "      <td>Enchanting</td>\n",
       "      <td>Susan Banks was a remarkable young woman, know...</td>\n",
       "    </tr>\n",
       "    <tr>\n",
       "      <th>37512</th>\n",
       "      <td>Jennifer Preston</td>\n",
       "      <td>Female</td>\n",
       "      <td>CleverKeep</td>\n",
       "      <td>6</td>\n",
       "      <td>Arithmancy</td>\n",
       "      <td>Rosewood and Dragonfly Wing</td>\n",
       "      <td>Patronus Charm</td>\n",
       "      <td>Magical Creatures</td>\n",
       "      <td>Jennifer Preston was a student at CleverKeep, ...</td>\n",
       "    </tr>\n",
       "    <tr>\n",
       "      <th>37513</th>\n",
       "      <td>Katherine Nguyen</td>\n",
       "      <td>Female</td>\n",
       "      <td>WiseDen</td>\n",
       "      <td>4</td>\n",
       "      <td>Magical Creatures</td>\n",
       "      <td>Holly and Phoenix Feather</td>\n",
       "      <td>Invisibility Spell</td>\n",
       "      <td>Potions</td>\n",
       "      <td>Katherine Nguyen was a peculiar student at Wis...</td>\n",
       "    </tr>\n",
       "    <tr>\n",
       "      <th>37514</th>\n",
       "      <td>Justin Fuentes</td>\n",
       "      <td>Male</td>\n",
       "      <td>LoyalTower</td>\n",
       "      <td>6</td>\n",
       "      <td>Divination</td>\n",
       "      <td>Maple and Basilisk Scale</td>\n",
       "      <td>Illumination Spell</td>\n",
       "      <td>Ritual Magic</td>\n",
       "      <td>Justin Fuentes was a quiet and unassuming boy ...</td>\n",
       "    </tr>\n",
       "  </tbody>\n",
       "</table>\n",
       "<p>37515 rows × 9 columns</p>\n",
       "</div>"
      ],
      "text/plain": [
       "                   Name  Gender       House  Year          Specialty  \\\n",
       "0        Joseph Beltran    Male   BraveHall     1  Magical Creatures   \n",
       "1      Shirley Martinez  Female  LoyalTower     5  Magical Artifacts   \n",
       "2       James Hernandez    Male   BraveHall     5          Astronomy   \n",
       "3          Jodi Gregory  Female     WiseDen     1         Apparition   \n",
       "4        David Erickson    Male   BraveHall     3            Potions   \n",
       "...                 ...     ...         ...   ...                ...   \n",
       "37510       Steven Carr    Male  LoyalTower     1            Potions   \n",
       "37511       Susan Banks  Female  CleverKeep     4          Herbology   \n",
       "37512  Jennifer Preston  Female  CleverKeep     6         Arithmancy   \n",
       "37513  Katherine Nguyen  Female     WiseDen     4  Magical Creatures   \n",
       "37514    Justin Fuentes    Male  LoyalTower     6         Divination   \n",
       "\n",
       "                          Wand Type                Spell   Favorite Subject  \\\n",
       "0      Alder and Hippogriff Feather       Reviving Spell         Apparition   \n",
       "1              Ebony and Veela Hair      Animation Spell             Charms   \n",
       "2            Cherry and Kelpie Hair  Curse of the Bogies  Magical Artifacts   \n",
       "3          Cedar and Sphinx Whisker      Disarming Charm             Charms   \n",
       "4             Pine and Wyvern Talon       Freezing Charm     Curse Breaking   \n",
       "...                             ...                  ...                ...   \n",
       "37510     Holly and Phoenix Feather      Vanishing Spell         Arithmancy   \n",
       "37511         Pine and Wyvern Talon       Freezing Charm         Enchanting   \n",
       "37512   Rosewood and Dragonfly Wing       Patronus Charm  Magical Creatures   \n",
       "37513     Holly and Phoenix Feather   Invisibility Spell            Potions   \n",
       "37514      Maple and Basilisk Scale   Illumination Spell       Ritual Magic   \n",
       "\n",
       "                                                   Story  \n",
       "0      Joseph Beltran was a young boy with a passion ...  \n",
       "1      Shirley Martinez was a student at the prestigi...  \n",
       "2      James Hernandez was a curious and determined y...  \n",
       "3      Jodi Gregory was a first-year student at WiseD...  \n",
       "4      David Erickson was a third-year student at Bra...  \n",
       "...                                                  ...  \n",
       "37510  Steven Carr was a young man with a thirst for ...  \n",
       "37511  Susan Banks was a remarkable young woman, know...  \n",
       "37512  Jennifer Preston was a student at CleverKeep, ...  \n",
       "37513  Katherine Nguyen was a peculiar student at Wis...  \n",
       "37514  Justin Fuentes was a quiet and unassuming boy ...  \n",
       "\n",
       "[37515 rows x 9 columns]"
      ]
     },
     "execution_count": 16,
     "metadata": {},
     "output_type": "execute_result"
    }
   ],
   "source": [
    "df"
   ]
  },
  {
   "cell_type": "code",
   "execution_count": 17,
   "metadata": {},
   "outputs": [
    {
     "data": {
      "text/html": [
       "<div>\n",
       "<style scoped>\n",
       "    .dataframe tbody tr th:only-of-type {\n",
       "        vertical-align: middle;\n",
       "    }\n",
       "\n",
       "    .dataframe tbody tr th {\n",
       "        vertical-align: top;\n",
       "    }\n",
       "\n",
       "    .dataframe thead th {\n",
       "        text-align: right;\n",
       "    }\n",
       "</style>\n",
       "<table border=\"1\" class=\"dataframe\">\n",
       "  <thead>\n",
       "    <tr style=\"text-align: right;\">\n",
       "      <th></th>\n",
       "      <th>Year</th>\n",
       "    </tr>\n",
       "  </thead>\n",
       "  <tbody>\n",
       "    <tr>\n",
       "      <th>count</th>\n",
       "      <td>37515.000000</td>\n",
       "    </tr>\n",
       "    <tr>\n",
       "      <th>mean</th>\n",
       "      <td>3.991417</td>\n",
       "    </tr>\n",
       "    <tr>\n",
       "      <th>std</th>\n",
       "      <td>2.001887</td>\n",
       "    </tr>\n",
       "    <tr>\n",
       "      <th>min</th>\n",
       "      <td>1.000000</td>\n",
       "    </tr>\n",
       "    <tr>\n",
       "      <th>25%</th>\n",
       "      <td>2.000000</td>\n",
       "    </tr>\n",
       "    <tr>\n",
       "      <th>50%</th>\n",
       "      <td>4.000000</td>\n",
       "    </tr>\n",
       "    <tr>\n",
       "      <th>75%</th>\n",
       "      <td>6.000000</td>\n",
       "    </tr>\n",
       "    <tr>\n",
       "      <th>max</th>\n",
       "      <td>7.000000</td>\n",
       "    </tr>\n",
       "  </tbody>\n",
       "</table>\n",
       "</div>"
      ],
      "text/plain": [
       "               Year\n",
       "count  37515.000000\n",
       "mean       3.991417\n",
       "std        2.001887\n",
       "min        1.000000\n",
       "25%        2.000000\n",
       "50%        4.000000\n",
       "75%        6.000000\n",
       "max        7.000000"
      ]
     },
     "execution_count": 17,
     "metadata": {},
     "output_type": "execute_result"
    }
   ],
   "source": [
    "#summary\n",
    "df.describe()"
   ]
  },
  {
   "cell_type": "markdown",
   "metadata": {},
   "source": [
    "tu sprawdzamy dane"
   ]
  },
  {
   "cell_type": "code",
   "execution_count": 25,
   "metadata": {},
   "outputs": [
    {
     "name": "stdout",
     "output_type": "stream",
     "text": [
      "Name                0\n",
      "Gender              0\n",
      "House               0\n",
      "Year                0\n",
      "Specialty           0\n",
      "Wand Type           0\n",
      "Spell               0\n",
      "Favorite Subject    0\n",
      "Story               0\n",
      "dtype: int64\n"
     ]
    }
   ],
   "source": [
    "#tu sprawdzamy czy są brakujące wartości\n",
    "print(df.isnull().sum())\n"
   ]
  },
  {
   "cell_type": "code",
   "execution_count": 18,
   "metadata": {},
   "outputs": [
    {
     "data": {
      "text/plain": [
       "4"
      ]
     },
     "execution_count": 18,
     "metadata": {},
     "output_type": "execute_result"
    }
   ],
   "source": [
    "#sprawdzanie czy jakieś dane się powtarzają identycznie\n",
    "df.duplicated().sum()\n"
   ]
  },
  {
   "cell_type": "code",
   "execution_count": 23,
   "metadata": {},
   "outputs": [
    {
     "data": {
      "text/html": [
       "<div>\n",
       "<style scoped>\n",
       "    .dataframe tbody tr th:only-of-type {\n",
       "        vertical-align: middle;\n",
       "    }\n",
       "\n",
       "    .dataframe tbody tr th {\n",
       "        vertical-align: top;\n",
       "    }\n",
       "\n",
       "    .dataframe thead th {\n",
       "        text-align: right;\n",
       "    }\n",
       "</style>\n",
       "<table border=\"1\" class=\"dataframe\">\n",
       "  <thead>\n",
       "    <tr style=\"text-align: right;\">\n",
       "      <th></th>\n",
       "      <th>Name</th>\n",
       "      <th>Gender</th>\n",
       "      <th>House</th>\n",
       "      <th>Year</th>\n",
       "      <th>Specialty</th>\n",
       "      <th>Wand Type</th>\n",
       "      <th>Spell</th>\n",
       "      <th>Favorite Subject</th>\n",
       "      <th>Story</th>\n",
       "    </tr>\n",
       "  </thead>\n",
       "  <tbody>\n",
       "    <tr>\n",
       "      <th>2500</th>\n",
       "      <td>Patrick Phillips</td>\n",
       "      <td>Male</td>\n",
       "      <td>WiseDen</td>\n",
       "      <td>7</td>\n",
       "      <td>Apparition</td>\n",
       "      <td>Cherry and Kelpie Hair</td>\n",
       "      <td>Conjuration Spell</td>\n",
       "      <td>Apparition</td>\n",
       "      <td>Patrick Phillips was a peculiar young man, eve...</td>\n",
       "    </tr>\n",
       "    <tr>\n",
       "      <th>2501</th>\n",
       "      <td>Matthew Campos</td>\n",
       "      <td>Male</td>\n",
       "      <td>BraveHall</td>\n",
       "      <td>7</td>\n",
       "      <td>Ancient Runes</td>\n",
       "      <td>Pine and Wyvern Talon</td>\n",
       "      <td>Healing Spell</td>\n",
       "      <td>Apparition</td>\n",
       "      <td>Matthew Campos was a brave and daring young ma...</td>\n",
       "    </tr>\n",
       "    <tr>\n",
       "      <th>5002</th>\n",
       "      <td>William Sandoval</td>\n",
       "      <td>Male</td>\n",
       "      <td>LoyalTower</td>\n",
       "      <td>3</td>\n",
       "      <td>Elemental Magic</td>\n",
       "      <td>Alder and Hippogriff Feather</td>\n",
       "      <td>Gravity-Flipping Spell</td>\n",
       "      <td>Magical History</td>\n",
       "      <td>William Sandoval was a quiet and unassuming st...</td>\n",
       "    </tr>\n",
       "    <tr>\n",
       "      <th>10003</th>\n",
       "      <td>Mrs. Amanda Chase</td>\n",
       "      <td>Female</td>\n",
       "      <td>WiseDen</td>\n",
       "      <td>5</td>\n",
       "      <td>Dark Arts</td>\n",
       "      <td>Willow and Unicorn Hair</td>\n",
       "      <td>Memory Charm</td>\n",
       "      <td>Flying</td>\n",
       "      <td>Mrs. Amanda Chase was a peculiar student at Wi...</td>\n",
       "    </tr>\n",
       "    <tr>\n",
       "      <th>15005</th>\n",
       "      <td>William Sandoval</td>\n",
       "      <td>Male</td>\n",
       "      <td>LoyalTower</td>\n",
       "      <td>3</td>\n",
       "      <td>Elemental Magic</td>\n",
       "      <td>Alder and Hippogriff Feather</td>\n",
       "      <td>Gravity-Flipping Spell</td>\n",
       "      <td>Magical History</td>\n",
       "      <td>William Sandoval was a quiet and unassuming st...</td>\n",
       "    </tr>\n",
       "    <tr>\n",
       "      <th>25010</th>\n",
       "      <td>Mrs. Amanda Chase</td>\n",
       "      <td>Female</td>\n",
       "      <td>WiseDen</td>\n",
       "      <td>5</td>\n",
       "      <td>Dark Arts</td>\n",
       "      <td>Willow and Unicorn Hair</td>\n",
       "      <td>Memory Charm</td>\n",
       "      <td>Flying</td>\n",
       "      <td>Mrs. Amanda Chase was a peculiar student at Wi...</td>\n",
       "    </tr>\n",
       "    <tr>\n",
       "      <th>35013</th>\n",
       "      <td>Matthew Campos</td>\n",
       "      <td>Male</td>\n",
       "      <td>BraveHall</td>\n",
       "      <td>7</td>\n",
       "      <td>Ancient Runes</td>\n",
       "      <td>Pine and Wyvern Talon</td>\n",
       "      <td>Healing Spell</td>\n",
       "      <td>Apparition</td>\n",
       "      <td>Matthew Campos was a brave and daring young ma...</td>\n",
       "    </tr>\n",
       "    <tr>\n",
       "      <th>35014</th>\n",
       "      <td>Patrick Phillips</td>\n",
       "      <td>Male</td>\n",
       "      <td>WiseDen</td>\n",
       "      <td>7</td>\n",
       "      <td>Apparition</td>\n",
       "      <td>Cherry and Kelpie Hair</td>\n",
       "      <td>Conjuration Spell</td>\n",
       "      <td>Apparition</td>\n",
       "      <td>Patrick Phillips was a peculiar young man, eve...</td>\n",
       "    </tr>\n",
       "  </tbody>\n",
       "</table>\n",
       "</div>"
      ],
      "text/plain": [
       "                    Name  Gender       House  Year        Specialty  \\\n",
       "2500    Patrick Phillips    Male     WiseDen     7       Apparition   \n",
       "2501      Matthew Campos    Male   BraveHall     7    Ancient Runes   \n",
       "5002    William Sandoval    Male  LoyalTower     3  Elemental Magic   \n",
       "10003  Mrs. Amanda Chase  Female     WiseDen     5        Dark Arts   \n",
       "15005   William Sandoval    Male  LoyalTower     3  Elemental Magic   \n",
       "25010  Mrs. Amanda Chase  Female     WiseDen     5        Dark Arts   \n",
       "35013     Matthew Campos    Male   BraveHall     7    Ancient Runes   \n",
       "35014   Patrick Phillips    Male     WiseDen     7       Apparition   \n",
       "\n",
       "                          Wand Type                   Spell Favorite Subject  \\\n",
       "2500         Cherry and Kelpie Hair       Conjuration Spell       Apparition   \n",
       "2501          Pine and Wyvern Talon           Healing Spell       Apparition   \n",
       "5002   Alder and Hippogriff Feather  Gravity-Flipping Spell  Magical History   \n",
       "10003       Willow and Unicorn Hair            Memory Charm           Flying   \n",
       "15005  Alder and Hippogriff Feather  Gravity-Flipping Spell  Magical History   \n",
       "25010       Willow and Unicorn Hair            Memory Charm           Flying   \n",
       "35013         Pine and Wyvern Talon           Healing Spell       Apparition   \n",
       "35014        Cherry and Kelpie Hair       Conjuration Spell       Apparition   \n",
       "\n",
       "                                                   Story  \n",
       "2500   Patrick Phillips was a peculiar young man, eve...  \n",
       "2501   Matthew Campos was a brave and daring young ma...  \n",
       "5002   William Sandoval was a quiet and unassuming st...  \n",
       "10003  Mrs. Amanda Chase was a peculiar student at Wi...  \n",
       "15005  William Sandoval was a quiet and unassuming st...  \n",
       "25010  Mrs. Amanda Chase was a peculiar student at Wi...  \n",
       "35013  Matthew Campos was a brave and daring young ma...  \n",
       "35014  Patrick Phillips was a peculiar young man, eve...  "
      ]
     },
     "execution_count": 23,
     "metadata": {},
     "output_type": "execute_result"
    }
   ],
   "source": [
    "df.loc[df.duplicated(keep=False)]"
   ]
  },
  {
   "cell_type": "code",
   "execution_count": 26,
   "metadata": {},
   "outputs": [
    {
     "data": {
      "text/plain": [
       "0"
      ]
     },
     "execution_count": 26,
     "metadata": {},
     "output_type": "execute_result"
    }
   ],
   "source": [
    "df = df.drop_duplicates()\n",
    "df.duplicated().sum()\n",
    "#ate"
   ]
  },
  {
   "cell_type": "code",
   "execution_count": 46,
   "metadata": {},
   "outputs": [
    {
     "data": {
      "text/plain": [
       "[18891, 18620]"
      ]
     },
     "execution_count": 46,
     "metadata": {},
     "output_type": "execute_result"
    }
   ],
   "source": [
    "count_gender = lambda df, gender: df['Gender'].loc[df['Gender'] == gender].count()\n",
    "gender_array = [count_gender(df, gender) for gender in ('Male', 'Female')]\n",
    "gender_array"
   ]
  },
  {
   "cell_type": "code",
   "execution_count": 47,
   "metadata": {},
   "outputs": [
    {
     "data": {
      "text/plain": [
       "Text(0, 0.5, 'Ilość studentów w szkole magii')"
      ]
     },
     "execution_count": 47,
     "metadata": {},
     "output_type": "execute_result"
    },
    {
     "data": {
      "image/png": "[encoded data removed]",
      "text/plain": [
       "<Figure size 640x480 with 1 Axes>"
      ]
     },
     "metadata": {},
     "output_type": "display_data"
    }
   ],
   "source": [
    "\n",
    "plt.bar(('Male', 'Female'), height=gender_array,  color ='pink', edgecolor='purple')\n",
    "plt.title('Płeć czarodziei')\n",
    "plt.xlabel('Płeć')\n",
    "plt.ylabel('Ilość studentów w szkole magii')"
   ]
  },
  {
   "cell_type": "markdown",
   "metadata": {},
   "source": [
    "# questlista\n",
    "1. histogramy dla reszty kolumn\n",
    "2. piecharty\n",
    "3. korelacja + heatmapa\n",
    "4. wykresy kwantylowe(?) qq plot\n",
    "5. raport"
   ]
  },
  {
   "cell_type": "markdown",
   "metadata": {},
   "source": []
  }
 ],
 "metadata": {
  "kernelspec": {
   "display_name": "Python 3",
   "language": "python",
   "name": "python3"
  },
  "language_info": {
   "codemirror_mode": {
    "name": "ipython",
    "version": 3
   },
   "file_extension": ".py",
   "mimetype": "text/x-python",
   "name": "python",
   "nbconvert_exporter": "python",
   "pygments_lexer": "ipython3",
   "version": "3.9.12"
  }
 },
 "nbformat": 4,
 "nbformat_minor": 2
}
